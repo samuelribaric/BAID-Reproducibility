{
 "cells": [
  {
   "cell_type": "code",
   "execution_count": 1,
   "id": "95354994",
   "metadata": {
    "_cell_guid": "b1076dfc-b9ad-4769-8c92-a6c4dae69d19",
    "_uuid": "8f2839f25d086af736a60e9eeb907d3b93b6e0e5",
    "execution": {
     "iopub.execute_input": "2024-04-05T09:25:40.574669Z",
     "iopub.status.busy": "2024-04-05T09:25:40.573703Z",
     "iopub.status.idle": "2024-04-05T09:25:40.585360Z",
     "shell.execute_reply": "2024-04-05T09:25:40.584376Z"
    },
    "papermill": {
     "duration": 0.017849,
     "end_time": "2024-04-05T09:25:40.587444",
     "exception": false,
     "start_time": "2024-04-05T09:25:40.569595",
     "status": "completed"
    },
    "tags": []
   },
   "outputs": [],
   "source": [
    "import sys\n",
    "import os\n",
    "sys.path.append('/kaggle/input/baid-model-test/baid-model')"
   ]
  },
  {
   "cell_type": "code",
   "execution_count": 2,
   "id": "405837d9",
   "metadata": {
    "execution": {
     "iopub.execute_input": "2024-04-05T09:25:40.595229Z",
     "iopub.status.busy": "2024-04-05T09:25:40.594811Z",
     "iopub.status.idle": "2024-04-05T09:28:26.199821Z",
     "shell.execute_reply": "2024-04-05T09:28:26.198435Z"
    },
    "papermill": {
     "duration": 165.611999,
     "end_time": "2024-04-05T09:28:26.202687",
     "exception": false,
     "start_time": "2024-04-05T09:25:40.590688",
     "status": "completed"
    },
    "tags": []
   },
   "outputs": [
    {
     "name": "stdout",
     "output_type": "stream",
     "text": [
      "100%|███████████████████████████████████| 6399/6399 [00:00<00:00, 277071.39it/s]\r\n",
      "/opt/conda/lib/python3.10/site-packages/torchvision/models/_utils.py:208: UserWarning: The parameter 'pretrained' is deprecated since 0.13 and may be removed in the future, please use 'weights' instead.\r\n",
      "  warnings.warn(\r\n",
      "/opt/conda/lib/python3.10/site-packages/torchvision/models/_utils.py:223: UserWarning: Arguments other than a weight enum or `None` for 'weights' are deprecated since 0.13 and may be removed in the future. The current behavior is equivalent to passing `weights=None`.\r\n",
      "  warnings.warn(msg)\r\n",
      "/opt/conda/lib/python3.10/site-packages/torch/utils/data/dataloader.py:557: UserWarning: This DataLoader will create 8 worker processes in total. Our suggested max number of worker in current system is 4, which is smaller than what this DataLoader is going to create. Please be aware that excessive worker creation might get DataLoader running slow or even freeze, lower the worker number to avoid potential slowness/freeze if necessary.\r\n",
      "  warnings.warn(_create_warning_msg(\r\n",
      "Number of items in test_loader: 6399\r\n",
      "558it [00:12, 51.71it/s]Premature end of JPEG file\r\n",
      "1581it [00:32, 45.00it/s]Premature end of JPEG file\r\n",
      "6399it [02:05, 51.11it/s]\r\n",
      "Number of scores: 6399\r\n",
      "SignificanceResult(statistic=0.46154713882667087, pvalue=0.0)\r\n",
      "PearsonRResult(statistic=0.4676182473919227, pvalue=0.0)\r\n",
      "0.7798093452101891\r\n"
     ]
    }
   ],
   "source": [
    "!cp /kaggle/input/baid-model-test/baid-model/data.py /kaggle/working\n",
    "!cp /kaggle/input/baid-model-test/baid-model/models/model.py /kaggle/working\n",
    "!cp /kaggle/input/baid-model-test/baid-model/models/layers.py /kaggle/working\n",
    "!cp /kaggle/input/baid-model-test/baid-model/test.py /kaggle/working\n",
    "!cp /kaggle/input/baid-model-test/baid-model/train.py /kaggle/working\n",
    "!cp /kaggle/input/baid-model-test/baid-model/pretraining.py /kaggle/working\n",
    "!cp /kaggle/input/baid-model-test/baid-model/common.py /kaggle/working\n",
    "\n",
    "\n",
    "# and so on for other necessary files\n",
    "\n",
    "!python /kaggle/input/baid-model-test/baid-model/test.py\n",
    "\n"
   ]
  },
  {
   "cell_type": "code",
   "execution_count": null,
   "id": "a6ba0c33",
   "metadata": {
    "execution": {
     "iopub.execute_input": "2024-03-28T20:08:13.193157Z",
     "iopub.status.busy": "2024-03-28T20:08:13.192436Z",
     "iopub.status.idle": "2024-03-28T20:10:38.283564Z",
     "shell.execute_reply": "2024-03-28T20:10:38.282465Z",
     "shell.execute_reply.started": "2024-03-28T20:08:13.193122Z"
    },
    "papermill": {
     "duration": 0.101034,
     "end_time": "2024-04-05T09:28:26.401663",
     "exception": false,
     "start_time": "2024-04-05T09:28:26.300629",
     "status": "completed"
    },
    "tags": []
   },
   "outputs": [],
   "source": []
  }
 ],
 "metadata": {
  "kaggle": {
   "accelerator": "nvidiaTeslaT4",
   "dataSources": [
    {
     "datasetId": 4629576,
     "sourceId": 7886377,
     "sourceType": "datasetVersion"
    },
    {
     "datasetId": 4736690,
     "sourceId": 8035274,
     "sourceType": "datasetVersion"
    }
   ],
   "dockerImageVersionId": 30664,
   "isGpuEnabled": true,
   "isInternetEnabled": false,
   "language": "python",
   "sourceType": "notebook"
  },
  "kernelspec": {
   "display_name": "Python 3",
   "language": "python",
   "name": "python3"
  },
  "language_info": {
   "codemirror_mode": {
    "name": "ipython",
    "version": 3
   },
   "file_extension": ".py",
   "mimetype": "text/x-python",
   "name": "python",
   "nbconvert_exporter": "python",
   "pygments_lexer": "ipython3",
   "version": "3.10.13"
  },
  "papermill": {
   "default_parameters": {},
   "duration": 170.333764,
   "end_time": "2024-04-05T09:28:26.917434",
   "environment_variables": {},
   "exception": null,
   "input_path": "__notebook__.ipynb",
   "output_path": "__notebook__.ipynb",
   "parameters": {},
   "start_time": "2024-04-05T09:25:36.583670",
   "version": "2.5.0"
  }
 },
 "nbformat": 4,
 "nbformat_minor": 5
}
