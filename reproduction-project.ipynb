{
 "cells": [
  {
   "cell_type": "code",
   "execution_count": 1,
   "id": "c3517681",
   "metadata": {
    "_cell_guid": "b1076dfc-b9ad-4769-8c92-a6c4dae69d19",
    "_uuid": "8f2839f25d086af736a60e9eeb907d3b93b6e0e5",
    "execution": {
     "iopub.execute_input": "2024-03-29T08:26:39.277402Z",
     "iopub.status.busy": "2024-03-29T08:26:39.276974Z",
     "iopub.status.idle": "2024-03-29T08:26:39.290182Z",
     "shell.execute_reply": "2024-03-29T08:26:39.289403Z"
    },
    "papermill": {
     "duration": 0.019369,
     "end_time": "2024-03-29T08:26:39.292226",
     "exception": false,
     "start_time": "2024-03-29T08:26:39.272857",
     "status": "completed"
    },
    "tags": []
   },
   "outputs": [],
   "source": [
    "import sys\n",
    "import os\n",
    "sys.path.append('/kaggle/input/baid-model-test/baid-model')"
   ]
  },
  {
   "cell_type": "code",
   "execution_count": 2,
   "id": "d45530b5",
   "metadata": {
    "execution": {
     "iopub.execute_input": "2024-03-29T08:26:39.297416Z",
     "iopub.status.busy": "2024-03-29T08:26:39.296976Z",
     "iopub.status.idle": "2024-03-29T08:29:04.543179Z",
     "shell.execute_reply": "2024-03-29T08:29:04.542077Z"
    },
    "papermill": {
     "duration": 145.251287,
     "end_time": "2024-03-29T08:29:04.545591",
     "exception": false,
     "start_time": "2024-03-29T08:26:39.294304",
     "status": "completed"
    },
    "tags": []
   },
   "outputs": [
    {
     "name": "stdout",
     "output_type": "stream",
     "text": [
      "100%|███████████████████████████████████| 6399/6399 [00:00<00:00, 300977.32it/s]\r\n",
      "/opt/conda/lib/python3.10/site-packages/torchvision/models/_utils.py:208: UserWarning: The parameter 'pretrained' is deprecated since 0.13 and may be removed in the future, please use 'weights' instead.\r\n",
      "  warnings.warn(\r\n",
      "/opt/conda/lib/python3.10/site-packages/torchvision/models/_utils.py:223: UserWarning: Arguments other than a weight enum or `None` for 'weights' are deprecated since 0.13 and may be removed in the future. The current behavior is equivalent to passing `weights=None`.\r\n",
      "  warnings.warn(msg)\r\n",
      "/opt/conda/lib/python3.10/site-packages/torch/utils/data/dataloader.py:557: UserWarning: This DataLoader will create 8 worker processes in total. Our suggested max number of worker in current system is 4, which is smaller than what this DataLoader is going to create. Please be aware that excessive worker creation might get DataLoader running slow or even freeze, lower the worker number to avoid potential slowness/freeze if necessary.\r\n",
      "  warnings.warn(_create_warning_msg(\r\n",
      "Number of items in test_loader: 6399\r\n",
      "556it [00:11, 58.09it/s]Premature end of JPEG file\r\n",
      "1581it [00:28, 57.95it/s]Premature end of JPEG file\r\n",
      "6399it [01:53, 56.44it/s]\r\n",
      "Number of scores: 6399\r\n",
      "SignificanceResult(statistic=0.4721614384229233, pvalue=0.0)\r\n",
      "PearsonRResult(statistic=0.466993115611886, pvalue=0.0)\r\n",
      "0.7673073917799657\r\n"
     ]
    }
   ],
   "source": [
    "!cp /kaggle/input/baid-model-test/baid-model/data.py /kaggle/working\n",
    "!cp /kaggle/input/baid-model-test/baid-model/models/model.py /kaggle/working\n",
    "!cp /kaggle/input/baid-model-test/baid-model/models/layers.py /kaggle/working\n",
    "!cp /kaggle/input/baid-model-test/baid-model/test.py /kaggle/working\n",
    "!cp /kaggle/input/baid-model-test/baid-model/train.py /kaggle/working\n",
    "!cp /kaggle/input/baid-model-test/baid-model/pretraining.py /kaggle/working\n",
    "!cp /kaggle/input/baid-model-test/baid-model/common.py /kaggle/working\n",
    "\n",
    "\n",
    "# and so on for other necessary files\n",
    "\n",
    "!python /kaggle/input/baid-model-test/baid-model/test.py\n",
    "\n"
   ]
  },
  {
   "cell_type": "code",
   "execution_count": null,
   "id": "b3867144",
   "metadata": {
    "execution": {
     "iopub.execute_input": "2024-03-28T20:08:13.193157Z",
     "iopub.status.busy": "2024-03-28T20:08:13.192436Z",
     "iopub.status.idle": "2024-03-28T20:10:38.283564Z",
     "shell.execute_reply": "2024-03-28T20:10:38.282465Z",
     "shell.execute_reply.started": "2024-03-28T20:08:13.193122Z"
    },
    "papermill": {
     "duration": 0.077954,
     "end_time": "2024-03-29T08:29:04.702308",
     "exception": false,
     "start_time": "2024-03-29T08:29:04.624354",
     "status": "completed"
    },
    "tags": []
   },
   "outputs": [],
   "source": []
  }
 ],
 "metadata": {
  "kaggle": {
   "accelerator": "nvidiaTeslaT4",
   "dataSources": [
    {
     "datasetId": 4629576,
     "sourceId": 7886377,
     "sourceType": "datasetVersion"
    },
    {
     "datasetId": 4688740,
     "sourceId": 7968784,
     "sourceType": "datasetVersion"
    }
   ],
   "dockerImageVersionId": 30664,
   "isGpuEnabled": true,
   "isInternetEnabled": false,
   "language": "python",
   "sourceType": "notebook"
  },
  "kernelspec": {
   "display_name": "Python 3",
   "language": "python",
   "name": "python3"
  },
  "language_info": {
   "codemirror_mode": {
    "name": "ipython",
    "version": 3
   },
   "file_extension": ".py",
   "mimetype": "text/x-python",
   "name": "python",
   "nbconvert_exporter": "python",
   "pygments_lexer": "ipython3",
   "version": "3.10.13"
  },
  "papermill": {
   "default_parameters": {},
   "duration": 148.721403,
   "end_time": "2024-03-29T08:29:04.997617",
   "environment_variables": {},
   "exception": null,
   "input_path": "__notebook__.ipynb",
   "output_path": "__notebook__.ipynb",
   "parameters": {},
   "start_time": "2024-03-29T08:26:36.276214",
   "version": "2.5.0"
  }
 },
 "nbformat": 4,
 "nbformat_minor": 5
}
